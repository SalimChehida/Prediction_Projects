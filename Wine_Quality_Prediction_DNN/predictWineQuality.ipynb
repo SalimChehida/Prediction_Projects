{
 "cells": [
  {
   "cell_type": "markdown",
   "metadata": {},
   "source": [
    "# Wine quality prediction with a Dense Network (DNN)\n",
    "\n",
    "The **[Wine Quality datasets](https://archive.ics.uci.edu/ml/datasets/wine+Quality)** are made up of analyses of a large number of wines, with an associated quality (between 0 and 10)  \n",
    "This dataset is provide by :  \n",
    "Paulo Cortez, University of Minho, Guimarães, Portugal, http://www3.dsi.uminho.pt/pcortez  \n",
    "A. Cerdeira, F. Almeida, T. Matos and J. Reis, Viticulture Commission of the Vinho Verde Region(CVRVV), Porto, Portugal, @2009  \n",
    "This dataset can be retreive at [University of California Irvine (UCI)](https://archive-beta.ics.uci.edu/ml/datasets/wine+quality)\n",
    "\n",
    "The dataset contains information about :\n",
    "- fixed acidity\n",
    "- volatile acidity\n",
    "- citric acid\n",
    "- residual sugar\n",
    "- chlorides\n",
    "- free sulfur dioxide\n",
    "- total sulfur dioxide\n",
    "- density\n",
    "- pH\n",
    "- sulphates\n",
    "- alcohol\n",
    "- quality (score between 0 and 10)\n",
    "\n",
    "\n"
   ]
  },
  {
   "cell_type": "markdown",
   "metadata": {},
   "source": [
    "## Step 1 - Import and init\n"
   ]
  },
  {
   "cell_type": "code",
   "execution_count": 2,
   "metadata": {},
   "outputs": [
    {
     "data": {
      "text/html": [
       "<style>\n",
       "\n",
       "div.warn {    \n",
       "    background-color: #fcf2f2;\n",
       "    border-color: #dFb5b4;\n",
       "    border-left: 5px solid #dfb5b4;\n",
       "    padding: 0.5em;\n",
       "    font-weight: bold;\n",
       "    font-size: 1.1em;;\n",
       "    }\n",
       "\n",
       "\n",
       "\n",
       "div.nota {    \n",
       "    background-color: #DAFFDE;\n",
       "    border-left: 5px solid #92CC99;\n",
       "    padding: 0.5em;\n",
       "    }\n",
       "\n",
       "div.todo:before { content:url(data:image/svg+xml;base64,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);\n",
       "    float:left;\n",
       "    margin-right:20px;\n",
       "    margin-top:-20px;\n",
       "    margin-bottom:20px;\n",
       "}\n",
       "div.todo{\n",
       "    font-weight: bold;\n",
       "    font-size: 1.1em;\n",
       "    margin-top:40px;\n",
       "}\n",
       "div.todo ul{\n",
       "    margin: 0.2em;\n",
       "}\n",
       "div.todo li{\n",
       "    margin-left:60px;\n",
       "    margin-top:0;\n",
       "    margin-bottom:0;\n",
       "}\n",
       "\n",
       "div .comment{\n",
       "    font-size:0.8em;\n",
       "    color:#696969;\n",
       "}\n",
       "\n",
       "\n",
       "\n",
       "</style>\n",
       "\n"
      ],
      "text/plain": [
       "<IPython.core.display.HTML object>"
      ]
     },
     "metadata": {},
     "output_type": "display_data"
    },
    {
     "data": {
      "text/markdown": [
       "<br>**FIDLE - Environment initialization**"
      ],
      "text/plain": [
       "<IPython.core.display.Markdown object>"
      ]
     },
     "metadata": {},
     "output_type": "display_data"
    },
    {
     "name": "stdout",
     "output_type": "stream",
     "text": [
      "Version              : 2.0b56\n",
      "Run id               : WINE1\n",
      "Run dir              : ./run/WINE1\n",
      "Datasets dir         : C:\\Users\\chehidas\\Documents\\Formations\\2023\\fidle22-23\\datasets-fidle\n",
      "Start time           : 27/07/23 10:29:58\n",
      "Hostname             : extravache (Windows)\n",
      "Tensorflow log level : Info + Warning + Error  (=0)\n",
      "Update keras cache   : False\n",
      "Save figs            : ./run/WINE1/figs (False)\n",
      "tensorflow           : 2.9.0\n",
      "numpy                : 1.24.3\n",
      "sklearn              : 1.1.3\n",
      "matplotlib           : 3.6.2\n",
      "pandas               : 1.5.2\n"
     ]
    }
   ],
   "source": [
    "# import os\n",
    "# os.environ['TF_CPP_MIN_LOG_LEVEL'] = '2'\n",
    "\n",
    "import tensorflow as tf\n",
    "from tensorflow import keras\n",
    "\n",
    "import numpy as np\n",
    "import matplotlib.pyplot as plt\n",
    "import pandas as pd\n",
    "import os,sys\n",
    "\n",
    "from IPython.display import Markdown\n",
    "from importlib import reload\n",
    "\n",
    "import fidle\n",
    "\n",
    "# Init Fidle environment\n",
    "run_id, run_dir, datasets_dir = fidle.init('WINE1')"
   ]
  },
  {
   "cell_type": "markdown",
   "metadata": {},
   "source": [
    "Verbosity during training : \n",
    "- 0 = silent\n",
    "- 1 = progress bar\n",
    "- 2 = one line per epoch"
   ]
  },
  {
   "cell_type": "code",
   "execution_count": 3,
   "metadata": {},
   "outputs": [],
   "source": [
    "fit_verbosity = 1\n",
    "dataset_name  = 'winequality-red.csv'"
   ]
  },
  {
   "cell_type": "markdown",
   "metadata": {},
   "source": [
    "Override parameters (batch mode) - Just forget this cell"
   ]
  },
  {
   "cell_type": "code",
   "execution_count": 4,
   "metadata": {},
   "outputs": [],
   "source": [
    "fidle.override('fit_verbosity', 'dataset_name')"
   ]
  },
  {
   "cell_type": "markdown",
   "metadata": {},
   "source": [
    "## Step 2 - Retrieve data"
   ]
  },
  {
   "cell_type": "code",
   "execution_count": 5,
   "metadata": {},
   "outputs": [
    {
     "data": {
      "text/html": [
       "<style type=\"text/css\">\n",
       "</style>\n",
       "<table id=\"T_f5463\">\n",
       "  <thead>\n",
       "    <tr>\n",
       "      <th class=\"blank level0\" >&nbsp;</th>\n",
       "      <th id=\"T_f5463_level0_col0\" class=\"col_heading level0 col0\" >fixed acidity</th>\n",
       "      <th id=\"T_f5463_level0_col1\" class=\"col_heading level0 col1\" >volatile acidity</th>\n",
       "      <th id=\"T_f5463_level0_col2\" class=\"col_heading level0 col2\" >citric acid</th>\n",
       "      <th id=\"T_f5463_level0_col3\" class=\"col_heading level0 col3\" >residual sugar</th>\n",
       "      <th id=\"T_f5463_level0_col4\" class=\"col_heading level0 col4\" >chlorides</th>\n",
       "      <th id=\"T_f5463_level0_col5\" class=\"col_heading level0 col5\" >free sulfur dioxide</th>\n",
       "      <th id=\"T_f5463_level0_col6\" class=\"col_heading level0 col6\" >total sulfur dioxide</th>\n",
       "      <th id=\"T_f5463_level0_col7\" class=\"col_heading level0 col7\" >density</th>\n",
       "      <th id=\"T_f5463_level0_col8\" class=\"col_heading level0 col8\" >pH</th>\n",
       "      <th id=\"T_f5463_level0_col9\" class=\"col_heading level0 col9\" >sulphates</th>\n",
       "      <th id=\"T_f5463_level0_col10\" class=\"col_heading level0 col10\" >alcohol</th>\n",
       "      <th id=\"T_f5463_level0_col11\" class=\"col_heading level0 col11\" >quality</th>\n",
       "    </tr>\n",
       "  </thead>\n",
       "  <tbody>\n",
       "    <tr>\n",
       "      <th id=\"T_f5463_level0_row0\" class=\"row_heading level0 row0\" >0</th>\n",
       "      <td id=\"T_f5463_row0_col0\" class=\"data row0 col0\" >7.40</td>\n",
       "      <td id=\"T_f5463_row0_col1\" class=\"data row0 col1\" >0.70</td>\n",
       "      <td id=\"T_f5463_row0_col2\" class=\"data row0 col2\" >0.00</td>\n",
       "      <td id=\"T_f5463_row0_col3\" class=\"data row0 col3\" >1.90</td>\n",
       "      <td id=\"T_f5463_row0_col4\" class=\"data row0 col4\" >0.08</td>\n",
       "      <td id=\"T_f5463_row0_col5\" class=\"data row0 col5\" >11.00</td>\n",
       "      <td id=\"T_f5463_row0_col6\" class=\"data row0 col6\" >34.00</td>\n",
       "      <td id=\"T_f5463_row0_col7\" class=\"data row0 col7\" >1.00</td>\n",
       "      <td id=\"T_f5463_row0_col8\" class=\"data row0 col8\" >3.51</td>\n",
       "      <td id=\"T_f5463_row0_col9\" class=\"data row0 col9\" >0.56</td>\n",
       "      <td id=\"T_f5463_row0_col10\" class=\"data row0 col10\" >9.40</td>\n",
       "      <td id=\"T_f5463_row0_col11\" class=\"data row0 col11\" >5.00</td>\n",
       "    </tr>\n",
       "    <tr>\n",
       "      <th id=\"T_f5463_level0_row1\" class=\"row_heading level0 row1\" >1</th>\n",
       "      <td id=\"T_f5463_row1_col0\" class=\"data row1 col0\" >7.80</td>\n",
       "      <td id=\"T_f5463_row1_col1\" class=\"data row1 col1\" >0.88</td>\n",
       "      <td id=\"T_f5463_row1_col2\" class=\"data row1 col2\" >0.00</td>\n",
       "      <td id=\"T_f5463_row1_col3\" class=\"data row1 col3\" >2.60</td>\n",
       "      <td id=\"T_f5463_row1_col4\" class=\"data row1 col4\" >0.10</td>\n",
       "      <td id=\"T_f5463_row1_col5\" class=\"data row1 col5\" >25.00</td>\n",
       "      <td id=\"T_f5463_row1_col6\" class=\"data row1 col6\" >67.00</td>\n",
       "      <td id=\"T_f5463_row1_col7\" class=\"data row1 col7\" >1.00</td>\n",
       "      <td id=\"T_f5463_row1_col8\" class=\"data row1 col8\" >3.20</td>\n",
       "      <td id=\"T_f5463_row1_col9\" class=\"data row1 col9\" >0.68</td>\n",
       "      <td id=\"T_f5463_row1_col10\" class=\"data row1 col10\" >9.80</td>\n",
       "      <td id=\"T_f5463_row1_col11\" class=\"data row1 col11\" >5.00</td>\n",
       "    </tr>\n",
       "    <tr>\n",
       "      <th id=\"T_f5463_level0_row2\" class=\"row_heading level0 row2\" >2</th>\n",
       "      <td id=\"T_f5463_row2_col0\" class=\"data row2 col0\" >7.80</td>\n",
       "      <td id=\"T_f5463_row2_col1\" class=\"data row2 col1\" >0.76</td>\n",
       "      <td id=\"T_f5463_row2_col2\" class=\"data row2 col2\" >0.04</td>\n",
       "      <td id=\"T_f5463_row2_col3\" class=\"data row2 col3\" >2.30</td>\n",
       "      <td id=\"T_f5463_row2_col4\" class=\"data row2 col4\" >0.09</td>\n",
       "      <td id=\"T_f5463_row2_col5\" class=\"data row2 col5\" >15.00</td>\n",
       "      <td id=\"T_f5463_row2_col6\" class=\"data row2 col6\" >54.00</td>\n",
       "      <td id=\"T_f5463_row2_col7\" class=\"data row2 col7\" >1.00</td>\n",
       "      <td id=\"T_f5463_row2_col8\" class=\"data row2 col8\" >3.26</td>\n",
       "      <td id=\"T_f5463_row2_col9\" class=\"data row2 col9\" >0.65</td>\n",
       "      <td id=\"T_f5463_row2_col10\" class=\"data row2 col10\" >9.80</td>\n",
       "      <td id=\"T_f5463_row2_col11\" class=\"data row2 col11\" >5.00</td>\n",
       "    </tr>\n",
       "    <tr>\n",
       "      <th id=\"T_f5463_level0_row3\" class=\"row_heading level0 row3\" >3</th>\n",
       "      <td id=\"T_f5463_row3_col0\" class=\"data row3 col0\" >11.20</td>\n",
       "      <td id=\"T_f5463_row3_col1\" class=\"data row3 col1\" >0.28</td>\n",
       "      <td id=\"T_f5463_row3_col2\" class=\"data row3 col2\" >0.56</td>\n",
       "      <td id=\"T_f5463_row3_col3\" class=\"data row3 col3\" >1.90</td>\n",
       "      <td id=\"T_f5463_row3_col4\" class=\"data row3 col4\" >0.07</td>\n",
       "      <td id=\"T_f5463_row3_col5\" class=\"data row3 col5\" >17.00</td>\n",
       "      <td id=\"T_f5463_row3_col6\" class=\"data row3 col6\" >60.00</td>\n",
       "      <td id=\"T_f5463_row3_col7\" class=\"data row3 col7\" >1.00</td>\n",
       "      <td id=\"T_f5463_row3_col8\" class=\"data row3 col8\" >3.16</td>\n",
       "      <td id=\"T_f5463_row3_col9\" class=\"data row3 col9\" >0.58</td>\n",
       "      <td id=\"T_f5463_row3_col10\" class=\"data row3 col10\" >9.80</td>\n",
       "      <td id=\"T_f5463_row3_col11\" class=\"data row3 col11\" >6.00</td>\n",
       "    </tr>\n",
       "    <tr>\n",
       "      <th id=\"T_f5463_level0_row4\" class=\"row_heading level0 row4\" >4</th>\n",
       "      <td id=\"T_f5463_row4_col0\" class=\"data row4 col0\" >7.40</td>\n",
       "      <td id=\"T_f5463_row4_col1\" class=\"data row4 col1\" >0.70</td>\n",
       "      <td id=\"T_f5463_row4_col2\" class=\"data row4 col2\" >0.00</td>\n",
       "      <td id=\"T_f5463_row4_col3\" class=\"data row4 col3\" >1.90</td>\n",
       "      <td id=\"T_f5463_row4_col4\" class=\"data row4 col4\" >0.08</td>\n",
       "      <td id=\"T_f5463_row4_col5\" class=\"data row4 col5\" >11.00</td>\n",
       "      <td id=\"T_f5463_row4_col6\" class=\"data row4 col6\" >34.00</td>\n",
       "      <td id=\"T_f5463_row4_col7\" class=\"data row4 col7\" >1.00</td>\n",
       "      <td id=\"T_f5463_row4_col8\" class=\"data row4 col8\" >3.51</td>\n",
       "      <td id=\"T_f5463_row4_col9\" class=\"data row4 col9\" >0.56</td>\n",
       "      <td id=\"T_f5463_row4_col10\" class=\"data row4 col10\" >9.40</td>\n",
       "      <td id=\"T_f5463_row4_col11\" class=\"data row4 col11\" >5.00</td>\n",
       "    </tr>\n",
       "  </tbody>\n",
       "</table>\n"
      ],
      "text/plain": [
       "<pandas.io.formats.style.Styler at 0x1bdbe434520>"
      ]
     },
     "metadata": {},
     "output_type": "display_data"
    },
    {
     "name": "stdout",
     "output_type": "stream",
     "text": [
      "Missing Data :  0   Shape is :  (1599, 12)\n"
     ]
    }
   ],
   "source": [
    "data = pd.read_csv(f'{datasets_dir}/WineQuality/origine/{dataset_name}', header=0,sep=';')\n",
    "display(data.head(5).style.format(\"{0:.2f}\"))\n",
    "print('Missing Data : ',data.isna().sum().sum(), '  Shape is : ', data.shape)"
   ]
  },
  {
   "cell_type": "markdown",
   "metadata": {},
   "source": [
    "## Step 3 - Preparing the data\n",
    "### 3.1 - Split data\n",
    "We will use 80% of the data for training and 20% for validation.  \n",
    "x will be the data of the analysis and y the quality"
   ]
  },
  {
   "cell_type": "code",
   "execution_count": 6,
   "metadata": {},
   "outputs": [
    {
     "name": "stdout",
     "output_type": "stream",
     "text": [
      "Original data shape was :  (1599, 12)\n",
      "x_train :  (1279, 11) y_train :  (1279,)\n",
      "x_test  :  (320, 11) y_test  :  (320,)\n"
     ]
    }
   ],
   "source": [
    "# ---- Split => train, test\n",
    "#\n",
    "data       = data.sample(frac=1., axis=0)     # Shuffle\n",
    "data_train = data.sample(frac=0.8, axis=0)    # get 80 %\n",
    "data_test  = data.drop(data_train.index)      # test = all - train\n",
    "\n",
    "# ---- Split => x,y (medv is price)\n",
    "#\n",
    "x_train = data_train.drop('quality',  axis=1)\n",
    "y_train = data_train['quality']\n",
    "x_test  = data_test.drop('quality',   axis=1)\n",
    "y_test  = data_test['quality']\n",
    "\n",
    "print('Original data shape was : ',data.shape)\n",
    "print('x_train : ',x_train.shape, 'y_train : ',y_train.shape)\n",
    "print('x_test  : ',x_test.shape,  'y_test  : ',y_test.shape)"
   ]
  },
  {
   "cell_type": "markdown",
   "metadata": {},
   "source": [
    "### 3.2 - Data normalization\n",
    "**Note :** \n",
    " - All input data must be normalized, train and test.  \n",
    " - To do this we will subtract the mean and divide by the standard deviation.  \n",
    " - But test data should not be used in any way, even for normalization.  \n",
    " - The mean and the standard deviation will therefore only be calculated with the train data."
   ]
  },
  {
   "cell_type": "code",
   "execution_count": 7,
   "metadata": {},
   "outputs": [
    {
     "data": {
      "text/html": [
       "<style type=\"text/css\">\n",
       "</style>\n",
       "<table id=\"T_8fdf0\">\n",
       "  <caption>Before normalization :</caption>\n",
       "  <thead>\n",
       "    <tr>\n",
       "      <th class=\"blank level0\" >&nbsp;</th>\n",
       "      <th id=\"T_8fdf0_level0_col0\" class=\"col_heading level0 col0\" >fixed acidity</th>\n",
       "      <th id=\"T_8fdf0_level0_col1\" class=\"col_heading level0 col1\" >volatile acidity</th>\n",
       "      <th id=\"T_8fdf0_level0_col2\" class=\"col_heading level0 col2\" >citric acid</th>\n",
       "      <th id=\"T_8fdf0_level0_col3\" class=\"col_heading level0 col3\" >residual sugar</th>\n",
       "      <th id=\"T_8fdf0_level0_col4\" class=\"col_heading level0 col4\" >chlorides</th>\n",
       "      <th id=\"T_8fdf0_level0_col5\" class=\"col_heading level0 col5\" >free sulfur dioxide</th>\n",
       "      <th id=\"T_8fdf0_level0_col6\" class=\"col_heading level0 col6\" >total sulfur dioxide</th>\n",
       "      <th id=\"T_8fdf0_level0_col7\" class=\"col_heading level0 col7\" >density</th>\n",
       "      <th id=\"T_8fdf0_level0_col8\" class=\"col_heading level0 col8\" >pH</th>\n",
       "      <th id=\"T_8fdf0_level0_col9\" class=\"col_heading level0 col9\" >sulphates</th>\n",
       "      <th id=\"T_8fdf0_level0_col10\" class=\"col_heading level0 col10\" >alcohol</th>\n",
       "    </tr>\n",
       "  </thead>\n",
       "  <tbody>\n",
       "    <tr>\n",
       "      <th id=\"T_8fdf0_level0_row0\" class=\"row_heading level0 row0\" >count</th>\n",
       "      <td id=\"T_8fdf0_row0_col0\" class=\"data row0 col0\" >1279.00</td>\n",
       "      <td id=\"T_8fdf0_row0_col1\" class=\"data row0 col1\" >1279.00</td>\n",
       "      <td id=\"T_8fdf0_row0_col2\" class=\"data row0 col2\" >1279.00</td>\n",
       "      <td id=\"T_8fdf0_row0_col3\" class=\"data row0 col3\" >1279.00</td>\n",
       "      <td id=\"T_8fdf0_row0_col4\" class=\"data row0 col4\" >1279.00</td>\n",
       "      <td id=\"T_8fdf0_row0_col5\" class=\"data row0 col5\" >1279.00</td>\n",
       "      <td id=\"T_8fdf0_row0_col6\" class=\"data row0 col6\" >1279.00</td>\n",
       "      <td id=\"T_8fdf0_row0_col7\" class=\"data row0 col7\" >1279.00</td>\n",
       "      <td id=\"T_8fdf0_row0_col8\" class=\"data row0 col8\" >1279.00</td>\n",
       "      <td id=\"T_8fdf0_row0_col9\" class=\"data row0 col9\" >1279.00</td>\n",
       "      <td id=\"T_8fdf0_row0_col10\" class=\"data row0 col10\" >1279.00</td>\n",
       "    </tr>\n",
       "    <tr>\n",
       "      <th id=\"T_8fdf0_level0_row1\" class=\"row_heading level0 row1\" >mean</th>\n",
       "      <td id=\"T_8fdf0_row1_col0\" class=\"data row1 col0\" >8.33</td>\n",
       "      <td id=\"T_8fdf0_row1_col1\" class=\"data row1 col1\" >0.53</td>\n",
       "      <td id=\"T_8fdf0_row1_col2\" class=\"data row1 col2\" >0.27</td>\n",
       "      <td id=\"T_8fdf0_row1_col3\" class=\"data row1 col3\" >2.57</td>\n",
       "      <td id=\"T_8fdf0_row1_col4\" class=\"data row1 col4\" >0.09</td>\n",
       "      <td id=\"T_8fdf0_row1_col5\" class=\"data row1 col5\" >16.06</td>\n",
       "      <td id=\"T_8fdf0_row1_col6\" class=\"data row1 col6\" >46.85</td>\n",
       "      <td id=\"T_8fdf0_row1_col7\" class=\"data row1 col7\" >1.00</td>\n",
       "      <td id=\"T_8fdf0_row1_col8\" class=\"data row1 col8\" >3.31</td>\n",
       "      <td id=\"T_8fdf0_row1_col9\" class=\"data row1 col9\" >0.66</td>\n",
       "      <td id=\"T_8fdf0_row1_col10\" class=\"data row1 col10\" >10.45</td>\n",
       "    </tr>\n",
       "    <tr>\n",
       "      <th id=\"T_8fdf0_level0_row2\" class=\"row_heading level0 row2\" >std</th>\n",
       "      <td id=\"T_8fdf0_row2_col0\" class=\"data row2 col0\" >1.75</td>\n",
       "      <td id=\"T_8fdf0_row2_col1\" class=\"data row2 col1\" >0.18</td>\n",
       "      <td id=\"T_8fdf0_row2_col2\" class=\"data row2 col2\" >0.20</td>\n",
       "      <td id=\"T_8fdf0_row2_col3\" class=\"data row2 col3\" >1.45</td>\n",
       "      <td id=\"T_8fdf0_row2_col4\" class=\"data row2 col4\" >0.05</td>\n",
       "      <td id=\"T_8fdf0_row2_col5\" class=\"data row2 col5\" >10.56</td>\n",
       "      <td id=\"T_8fdf0_row2_col6\" class=\"data row2 col6\" >33.14</td>\n",
       "      <td id=\"T_8fdf0_row2_col7\" class=\"data row2 col7\" >0.00</td>\n",
       "      <td id=\"T_8fdf0_row2_col8\" class=\"data row2 col8\" >0.16</td>\n",
       "      <td id=\"T_8fdf0_row2_col9\" class=\"data row2 col9\" >0.17</td>\n",
       "      <td id=\"T_8fdf0_row2_col10\" class=\"data row2 col10\" >1.08</td>\n",
       "    </tr>\n",
       "    <tr>\n",
       "      <th id=\"T_8fdf0_level0_row3\" class=\"row_heading level0 row3\" >min</th>\n",
       "      <td id=\"T_8fdf0_row3_col0\" class=\"data row3 col0\" >4.60</td>\n",
       "      <td id=\"T_8fdf0_row3_col1\" class=\"data row3 col1\" >0.12</td>\n",
       "      <td id=\"T_8fdf0_row3_col2\" class=\"data row3 col2\" >0.00</td>\n",
       "      <td id=\"T_8fdf0_row3_col3\" class=\"data row3 col3\" >0.90</td>\n",
       "      <td id=\"T_8fdf0_row3_col4\" class=\"data row3 col4\" >0.01</td>\n",
       "      <td id=\"T_8fdf0_row3_col5\" class=\"data row3 col5\" >1.00</td>\n",
       "      <td id=\"T_8fdf0_row3_col6\" class=\"data row3 col6\" >6.00</td>\n",
       "      <td id=\"T_8fdf0_row3_col7\" class=\"data row3 col7\" >0.99</td>\n",
       "      <td id=\"T_8fdf0_row3_col8\" class=\"data row3 col8\" >2.74</td>\n",
       "      <td id=\"T_8fdf0_row3_col9\" class=\"data row3 col9\" >0.33</td>\n",
       "      <td id=\"T_8fdf0_row3_col10\" class=\"data row3 col10\" >8.40</td>\n",
       "    </tr>\n",
       "    <tr>\n",
       "      <th id=\"T_8fdf0_level0_row4\" class=\"row_heading level0 row4\" >25%</th>\n",
       "      <td id=\"T_8fdf0_row4_col0\" class=\"data row4 col0\" >7.10</td>\n",
       "      <td id=\"T_8fdf0_row4_col1\" class=\"data row4 col1\" >0.39</td>\n",
       "      <td id=\"T_8fdf0_row4_col2\" class=\"data row4 col2\" >0.10</td>\n",
       "      <td id=\"T_8fdf0_row4_col3\" class=\"data row4 col3\" >1.90</td>\n",
       "      <td id=\"T_8fdf0_row4_col4\" class=\"data row4 col4\" >0.07</td>\n",
       "      <td id=\"T_8fdf0_row4_col5\" class=\"data row4 col5\" >7.00</td>\n",
       "      <td id=\"T_8fdf0_row4_col6\" class=\"data row4 col6\" >22.00</td>\n",
       "      <td id=\"T_8fdf0_row4_col7\" class=\"data row4 col7\" >1.00</td>\n",
       "      <td id=\"T_8fdf0_row4_col8\" class=\"data row4 col8\" >3.21</td>\n",
       "      <td id=\"T_8fdf0_row4_col9\" class=\"data row4 col9\" >0.55</td>\n",
       "      <td id=\"T_8fdf0_row4_col10\" class=\"data row4 col10\" >9.50</td>\n",
       "    </tr>\n",
       "    <tr>\n",
       "      <th id=\"T_8fdf0_level0_row5\" class=\"row_heading level0 row5\" >50%</th>\n",
       "      <td id=\"T_8fdf0_row5_col0\" class=\"data row5 col0\" >7.90</td>\n",
       "      <td id=\"T_8fdf0_row5_col1\" class=\"data row5 col1\" >0.52</td>\n",
       "      <td id=\"T_8fdf0_row5_col2\" class=\"data row5 col2\" >0.26</td>\n",
       "      <td id=\"T_8fdf0_row5_col3\" class=\"data row5 col3\" >2.20</td>\n",
       "      <td id=\"T_8fdf0_row5_col4\" class=\"data row5 col4\" >0.08</td>\n",
       "      <td id=\"T_8fdf0_row5_col5\" class=\"data row5 col5\" >14.00</td>\n",
       "      <td id=\"T_8fdf0_row5_col6\" class=\"data row5 col6\" >38.00</td>\n",
       "      <td id=\"T_8fdf0_row5_col7\" class=\"data row5 col7\" >1.00</td>\n",
       "      <td id=\"T_8fdf0_row5_col8\" class=\"data row5 col8\" >3.31</td>\n",
       "      <td id=\"T_8fdf0_row5_col9\" class=\"data row5 col9\" >0.62</td>\n",
       "      <td id=\"T_8fdf0_row5_col10\" class=\"data row5 col10\" >10.20</td>\n",
       "    </tr>\n",
       "    <tr>\n",
       "      <th id=\"T_8fdf0_level0_row6\" class=\"row_heading level0 row6\" >75%</th>\n",
       "      <td id=\"T_8fdf0_row6_col0\" class=\"data row6 col0\" >9.25</td>\n",
       "      <td id=\"T_8fdf0_row6_col1\" class=\"data row6 col1\" >0.64</td>\n",
       "      <td id=\"T_8fdf0_row6_col2\" class=\"data row6 col2\" >0.42</td>\n",
       "      <td id=\"T_8fdf0_row6_col3\" class=\"data row6 col3\" >2.60</td>\n",
       "      <td id=\"T_8fdf0_row6_col4\" class=\"data row6 col4\" >0.09</td>\n",
       "      <td id=\"T_8fdf0_row6_col5\" class=\"data row6 col5\" >22.00</td>\n",
       "      <td id=\"T_8fdf0_row6_col6\" class=\"data row6 col6\" >63.00</td>\n",
       "      <td id=\"T_8fdf0_row6_col7\" class=\"data row6 col7\" >1.00</td>\n",
       "      <td id=\"T_8fdf0_row6_col8\" class=\"data row6 col8\" >3.40</td>\n",
       "      <td id=\"T_8fdf0_row6_col9\" class=\"data row6 col9\" >0.73</td>\n",
       "      <td id=\"T_8fdf0_row6_col10\" class=\"data row6 col10\" >11.10</td>\n",
       "    </tr>\n",
       "    <tr>\n",
       "      <th id=\"T_8fdf0_level0_row7\" class=\"row_heading level0 row7\" >max</th>\n",
       "      <td id=\"T_8fdf0_row7_col0\" class=\"data row7 col0\" >15.90</td>\n",
       "      <td id=\"T_8fdf0_row7_col1\" class=\"data row7 col1\" >1.58</td>\n",
       "      <td id=\"T_8fdf0_row7_col2\" class=\"data row7 col2\" >1.00</td>\n",
       "      <td id=\"T_8fdf0_row7_col3\" class=\"data row7 col3\" >15.50</td>\n",
       "      <td id=\"T_8fdf0_row7_col4\" class=\"data row7 col4\" >0.61</td>\n",
       "      <td id=\"T_8fdf0_row7_col5\" class=\"data row7 col5\" >72.00</td>\n",
       "      <td id=\"T_8fdf0_row7_col6\" class=\"data row7 col6\" >289.00</td>\n",
       "      <td id=\"T_8fdf0_row7_col7\" class=\"data row7 col7\" >1.00</td>\n",
       "      <td id=\"T_8fdf0_row7_col8\" class=\"data row7 col8\" >4.01</td>\n",
       "      <td id=\"T_8fdf0_row7_col9\" class=\"data row7 col9\" >2.00</td>\n",
       "      <td id=\"T_8fdf0_row7_col10\" class=\"data row7 col10\" >14.90</td>\n",
       "    </tr>\n",
       "  </tbody>\n",
       "</table>\n"
      ],
      "text/plain": [
       "<pandas.io.formats.style.Styler at 0x1bdbe3be130>"
      ]
     },
     "metadata": {},
     "output_type": "display_data"
    },
    {
     "data": {
      "text/html": [
       "<style type=\"text/css\">\n",
       "</style>\n",
       "<table id=\"T_9affa\">\n",
       "  <caption>After normalization :</caption>\n",
       "  <thead>\n",
       "    <tr>\n",
       "      <th class=\"blank level0\" >&nbsp;</th>\n",
       "      <th id=\"T_9affa_level0_col0\" class=\"col_heading level0 col0\" >fixed acidity</th>\n",
       "      <th id=\"T_9affa_level0_col1\" class=\"col_heading level0 col1\" >volatile acidity</th>\n",
       "      <th id=\"T_9affa_level0_col2\" class=\"col_heading level0 col2\" >citric acid</th>\n",
       "      <th id=\"T_9affa_level0_col3\" class=\"col_heading level0 col3\" >residual sugar</th>\n",
       "      <th id=\"T_9affa_level0_col4\" class=\"col_heading level0 col4\" >chlorides</th>\n",
       "      <th id=\"T_9affa_level0_col5\" class=\"col_heading level0 col5\" >free sulfur dioxide</th>\n",
       "      <th id=\"T_9affa_level0_col6\" class=\"col_heading level0 col6\" >total sulfur dioxide</th>\n",
       "      <th id=\"T_9affa_level0_col7\" class=\"col_heading level0 col7\" >density</th>\n",
       "      <th id=\"T_9affa_level0_col8\" class=\"col_heading level0 col8\" >pH</th>\n",
       "      <th id=\"T_9affa_level0_col9\" class=\"col_heading level0 col9\" >sulphates</th>\n",
       "      <th id=\"T_9affa_level0_col10\" class=\"col_heading level0 col10\" >alcohol</th>\n",
       "    </tr>\n",
       "  </thead>\n",
       "  <tbody>\n",
       "    <tr>\n",
       "      <th id=\"T_9affa_level0_row0\" class=\"row_heading level0 row0\" >count</th>\n",
       "      <td id=\"T_9affa_row0_col0\" class=\"data row0 col0\" >1279.00</td>\n",
       "      <td id=\"T_9affa_row0_col1\" class=\"data row0 col1\" >1279.00</td>\n",
       "      <td id=\"T_9affa_row0_col2\" class=\"data row0 col2\" >1279.00</td>\n",
       "      <td id=\"T_9affa_row0_col3\" class=\"data row0 col3\" >1279.00</td>\n",
       "      <td id=\"T_9affa_row0_col4\" class=\"data row0 col4\" >1279.00</td>\n",
       "      <td id=\"T_9affa_row0_col5\" class=\"data row0 col5\" >1279.00</td>\n",
       "      <td id=\"T_9affa_row0_col6\" class=\"data row0 col6\" >1279.00</td>\n",
       "      <td id=\"T_9affa_row0_col7\" class=\"data row0 col7\" >1279.00</td>\n",
       "      <td id=\"T_9affa_row0_col8\" class=\"data row0 col8\" >1279.00</td>\n",
       "      <td id=\"T_9affa_row0_col9\" class=\"data row0 col9\" >1279.00</td>\n",
       "      <td id=\"T_9affa_row0_col10\" class=\"data row0 col10\" >1279.00</td>\n",
       "    </tr>\n",
       "    <tr>\n",
       "      <th id=\"T_9affa_level0_row1\" class=\"row_heading level0 row1\" >mean</th>\n",
       "      <td id=\"T_9affa_row1_col0\" class=\"data row1 col0\" >0.00</td>\n",
       "      <td id=\"T_9affa_row1_col1\" class=\"data row1 col1\" >-0.00</td>\n",
       "      <td id=\"T_9affa_row1_col2\" class=\"data row1 col2\" >0.00</td>\n",
       "      <td id=\"T_9affa_row1_col3\" class=\"data row1 col3\" >-0.00</td>\n",
       "      <td id=\"T_9affa_row1_col4\" class=\"data row1 col4\" >-0.00</td>\n",
       "      <td id=\"T_9affa_row1_col5\" class=\"data row1 col5\" >-0.00</td>\n",
       "      <td id=\"T_9affa_row1_col6\" class=\"data row1 col6\" >0.00</td>\n",
       "      <td id=\"T_9affa_row1_col7\" class=\"data row1 col7\" >0.00</td>\n",
       "      <td id=\"T_9affa_row1_col8\" class=\"data row1 col8\" >0.00</td>\n",
       "      <td id=\"T_9affa_row1_col9\" class=\"data row1 col9\" >-0.00</td>\n",
       "      <td id=\"T_9affa_row1_col10\" class=\"data row1 col10\" >-0.00</td>\n",
       "    </tr>\n",
       "    <tr>\n",
       "      <th id=\"T_9affa_level0_row2\" class=\"row_heading level0 row2\" >std</th>\n",
       "      <td id=\"T_9affa_row2_col0\" class=\"data row2 col0\" >1.00</td>\n",
       "      <td id=\"T_9affa_row2_col1\" class=\"data row2 col1\" >1.00</td>\n",
       "      <td id=\"T_9affa_row2_col2\" class=\"data row2 col2\" >1.00</td>\n",
       "      <td id=\"T_9affa_row2_col3\" class=\"data row2 col3\" >1.00</td>\n",
       "      <td id=\"T_9affa_row2_col4\" class=\"data row2 col4\" >1.00</td>\n",
       "      <td id=\"T_9affa_row2_col5\" class=\"data row2 col5\" >1.00</td>\n",
       "      <td id=\"T_9affa_row2_col6\" class=\"data row2 col6\" >1.00</td>\n",
       "      <td id=\"T_9affa_row2_col7\" class=\"data row2 col7\" >1.00</td>\n",
       "      <td id=\"T_9affa_row2_col8\" class=\"data row2 col8\" >1.00</td>\n",
       "      <td id=\"T_9affa_row2_col9\" class=\"data row2 col9\" >1.00</td>\n",
       "      <td id=\"T_9affa_row2_col10\" class=\"data row2 col10\" >1.00</td>\n",
       "    </tr>\n",
       "    <tr>\n",
       "      <th id=\"T_9affa_level0_row3\" class=\"row_heading level0 row3\" >min</th>\n",
       "      <td id=\"T_9affa_row3_col0\" class=\"data row3 col0\" >-2.13</td>\n",
       "      <td id=\"T_9affa_row3_col1\" class=\"data row3 col1\" >-2.27</td>\n",
       "      <td id=\"T_9affa_row3_col2\" class=\"data row3 col2\" >-1.40</td>\n",
       "      <td id=\"T_9affa_row3_col3\" class=\"data row3 col3\" >-1.15</td>\n",
       "      <td id=\"T_9affa_row3_col4\" class=\"data row3 col4\" >-1.59</td>\n",
       "      <td id=\"T_9affa_row3_col5\" class=\"data row3 col5\" >-1.43</td>\n",
       "      <td id=\"T_9affa_row3_col6\" class=\"data row3 col6\" >-1.23</td>\n",
       "      <td id=\"T_9affa_row3_col7\" class=\"data row3 col7\" >-3.49</td>\n",
       "      <td id=\"T_9affa_row3_col8\" class=\"data row3 col8\" >-3.67</td>\n",
       "      <td id=\"T_9affa_row3_col9\" class=\"data row3 col9\" >-1.96</td>\n",
       "      <td id=\"T_9affa_row3_col10\" class=\"data row3 col10\" >-1.91</td>\n",
       "    </tr>\n",
       "    <tr>\n",
       "      <th id=\"T_9affa_level0_row4\" class=\"row_heading level0 row4\" >25%</th>\n",
       "      <td id=\"T_9affa_row4_col0\" class=\"data row4 col0\" >-0.70</td>\n",
       "      <td id=\"T_9affa_row4_col1\" class=\"data row4 col1\" >-0.76</td>\n",
       "      <td id=\"T_9affa_row4_col2\" class=\"data row4 col2\" >-0.89</td>\n",
       "      <td id=\"T_9affa_row4_col3\" class=\"data row4 col3\" >-0.46</td>\n",
       "      <td id=\"T_9affa_row4_col4\" class=\"data row4 col4\" >-0.36</td>\n",
       "      <td id=\"T_9affa_row4_col5\" class=\"data row4 col5\" >-0.86</td>\n",
       "      <td id=\"T_9affa_row4_col6\" class=\"data row4 col6\" >-0.75</td>\n",
       "      <td id=\"T_9affa_row4_col7\" class=\"data row4 col7\" >-0.60</td>\n",
       "      <td id=\"T_9affa_row4_col8\" class=\"data row4 col8\" >-0.64</td>\n",
       "      <td id=\"T_9affa_row4_col9\" class=\"data row4 col9\" >-0.65</td>\n",
       "      <td id=\"T_9affa_row4_col10\" class=\"data row4 col10\" >-0.88</td>\n",
       "    </tr>\n",
       "    <tr>\n",
       "      <th id=\"T_9affa_level0_row5\" class=\"row_heading level0 row5\" >50%</th>\n",
       "      <td id=\"T_9affa_row5_col0\" class=\"data row5 col0\" >-0.24</td>\n",
       "      <td id=\"T_9affa_row5_col1\" class=\"data row5 col1\" >-0.04</td>\n",
       "      <td id=\"T_9affa_row5_col2\" class=\"data row5 col2\" >-0.07</td>\n",
       "      <td id=\"T_9affa_row5_col3\" class=\"data row5 col3\" >-0.25</td>\n",
       "      <td id=\"T_9affa_row5_col4\" class=\"data row5 col4\" >-0.17</td>\n",
       "      <td id=\"T_9affa_row5_col5\" class=\"data row5 col5\" >-0.19</td>\n",
       "      <td id=\"T_9affa_row5_col6\" class=\"data row5 col6\" >-0.27</td>\n",
       "      <td id=\"T_9affa_row5_col7\" class=\"data row5 col7\" >-0.01</td>\n",
       "      <td id=\"T_9affa_row5_col8\" class=\"data row5 col8\" >0.01</td>\n",
       "      <td id=\"T_9affa_row5_col9\" class=\"data row5 col9\" >-0.24</td>\n",
       "      <td id=\"T_9affa_row5_col10\" class=\"data row5 col10\" >-0.23</td>\n",
       "    </tr>\n",
       "    <tr>\n",
       "      <th id=\"T_9affa_level0_row6\" class=\"row_heading level0 row6\" >75%</th>\n",
       "      <td id=\"T_9affa_row6_col0\" class=\"data row6 col0\" >0.53</td>\n",
       "      <td id=\"T_9affa_row6_col1\" class=\"data row6 col1\" >0.60</td>\n",
       "      <td id=\"T_9affa_row6_col2\" class=\"data row6 col2\" >0.75</td>\n",
       "      <td id=\"T_9affa_row6_col3\" class=\"data row6 col3\" >0.02</td>\n",
       "      <td id=\"T_9affa_row6_col4\" class=\"data row6 col4\" >0.06</td>\n",
       "      <td id=\"T_9affa_row6_col5\" class=\"data row6 col5\" >0.56</td>\n",
       "      <td id=\"T_9affa_row6_col6\" class=\"data row6 col6\" >0.49</td>\n",
       "      <td id=\"T_9affa_row6_col7\" class=\"data row6 col7\" >0.57</td>\n",
       "      <td id=\"T_9affa_row6_col8\" class=\"data row6 col8\" >0.59</td>\n",
       "      <td id=\"T_9affa_row6_col9\" class=\"data row6 col9\" >0.42</td>\n",
       "      <td id=\"T_9affa_row6_col10\" class=\"data row6 col10\" >0.60</td>\n",
       "    </tr>\n",
       "    <tr>\n",
       "      <th id=\"T_9affa_level0_row7\" class=\"row_heading level0 row7\" >max</th>\n",
       "      <td id=\"T_9affa_row7_col0\" class=\"data row7 col0\" >4.33</td>\n",
       "      <td id=\"T_9affa_row7_col1\" class=\"data row7 col1\" >5.87</td>\n",
       "      <td id=\"T_9affa_row7_col2\" class=\"data row7 col2\" >3.71</td>\n",
       "      <td id=\"T_9affa_row7_col3\" class=\"data row7 col3\" >8.93</td>\n",
       "      <td id=\"T_9affa_row7_col4\" class=\"data row7 col4\" >11.10</td>\n",
       "      <td id=\"T_9affa_row7_col5\" class=\"data row7 col5\" >5.30</td>\n",
       "      <td id=\"T_9affa_row7_col6\" class=\"data row7 col6\" >7.31</td>\n",
       "      <td id=\"T_9affa_row7_col7\" class=\"data row7 col7\" >3.64</td>\n",
       "      <td id=\"T_9affa_row7_col8\" class=\"data row7 col8\" >4.52</td>\n",
       "      <td id=\"T_9affa_row7_col9\" class=\"data row7 col9\" >7.96</td>\n",
       "      <td id=\"T_9affa_row7_col10\" class=\"data row7 col10\" >4.14</td>\n",
       "    </tr>\n",
       "  </tbody>\n",
       "</table>\n"
      ],
      "text/plain": [
       "<pandas.io.formats.style.Styler at 0x1bdd230d520>"
      ]
     },
     "metadata": {},
     "output_type": "display_data"
    }
   ],
   "source": [
    "display(x_train.describe().style.format(\"{0:.2f}\").set_caption(\"Before normalization :\"))\n",
    "\n",
    "mean = x_train.mean()\n",
    "std  = x_train.std()\n",
    "x_train = (x_train - mean) / std\n",
    "x_test  = (x_test  - mean) / std\n",
    "\n",
    "display(x_train.describe().style.format(\"{0:.2f}\").set_caption(\"After normalization :\"))\n",
    "\n",
    "# Convert ou DataFrame to numpy array\n",
    "x_train, y_train = np.array(x_train), np.array(y_train)\n",
    "x_test,  y_test  = np.array(x_test),  np.array(y_test)\n"
   ]
  },
  {
   "cell_type": "markdown",
   "metadata": {},
   "source": [
    "## Step 4 - Build a model\n",
    "More informations about : \n",
    " - [Optimizer](https://www.tensorflow.org/api_docs/python/tf/keras/optimizers)\n",
    " - [Activation](https://www.tensorflow.org/api_docs/python/tf/keras/activations)\n",
    " - [Loss](https://www.tensorflow.org/api_docs/python/tf/keras/losses)\n",
    " - [Metrics](https://www.tensorflow.org/api_docs/python/tf/keras/metrics)"
   ]
  },
  {
   "cell_type": "code",
   "execution_count": 8,
   "metadata": {},
   "outputs": [],
   "source": [
    "def get_model_v1(shape):\n",
    "  \n",
    "  model = keras.models.Sequential()\n",
    "  model.add(keras.layers.Input(shape, name=\"InputLayer\"))\n",
    "  model.add(keras.layers.Dense(64, activation='relu', name='Dense_n1'))\n",
    "  model.add(keras.layers.Dense(64, activation='relu', name='Dense_n2'))\n",
    "  model.add(keras.layers.Dense(1, name='Output'))\n",
    "\n",
    "  model.compile(optimizer = 'rmsprop',\n",
    "                loss      = 'mse',\n",
    "                metrics   = ['mae', 'mse'] )\n",
    "  return model"
   ]
  },
  {
   "cell_type": "markdown",
   "metadata": {},
   "source": [
    "## 5 - Train the model\n",
    "### 5.1 - Get it"
   ]
  },
  {
   "cell_type": "code",
   "execution_count": 9,
   "metadata": {},
   "outputs": [
    {
     "name": "stdout",
     "output_type": "stream",
     "text": [
      "Model: \"sequential\"\n",
      "_________________________________________________________________\n",
      " Layer (type)                Output Shape              Param #   \n",
      "=================================================================\n",
      " Dense_n1 (Dense)            (None, 64)                768       \n",
      "                                                                 \n",
      " Dense_n2 (Dense)            (None, 64)                4160      \n",
      "                                                                 \n",
      " Output (Dense)              (None, 1)                 65        \n",
      "                                                                 \n",
      "=================================================================\n",
      "Total params: 4,993\n",
      "Trainable params: 4,993\n",
      "Non-trainable params: 0\n",
      "_________________________________________________________________\n"
     ]
    }
   ],
   "source": [
    "model=get_model_v1( (11,) )\n",
    "\n",
    "model.summary()"
   ]
  },
  {
   "cell_type": "markdown",
   "metadata": {},
   "source": [
    "### 5.2 - Add callback"
   ]
  },
  {
   "cell_type": "code",
   "execution_count": 10,
   "metadata": {},
   "outputs": [],
   "source": [
    "os.makedirs('./run/models',   mode=0o750, exist_ok=True)\n",
    "save_dir = \"./run/models/best_model.h5\"\n",
    "\n",
    "savemodel_callback = tf.keras.callbacks.ModelCheckpoint(filepath=save_dir, verbose=0, save_best_only=True)"
   ]
  },
  {
   "cell_type": "markdown",
   "metadata": {},
   "source": [
    "### 5.3 - Train it"
   ]
  },
  {
   "cell_type": "code",
   "execution_count": 11,
   "metadata": {},
   "outputs": [
    {
     "name": "stdout",
     "output_type": "stream",
     "text": [
      "Epoch 1/100\n",
      "128/128 [==============================] - 1s 4ms/step - loss: 7.1324 - mae: 2.0712 - mse: 7.1324 - val_loss: 1.7411 - val_mae: 1.0247 - val_mse: 1.7411\n",
      "Epoch 2/100\n",
      "128/128 [==============================] - 0s 2ms/step - loss: 1.5470 - mae: 0.9668 - mse: 1.5470 - val_loss: 1.1070 - val_mae: 0.8274 - val_mse: 1.1070\n",
      "Epoch 3/100\n",
      "128/128 [==============================] - 0s 2ms/step - loss: 1.0662 - mae: 0.8027 - mse: 1.0662 - val_loss: 0.8836 - val_mae: 0.7296 - val_mse: 0.8836\n",
      "Epoch 4/100\n",
      "128/128 [==============================] - 0s 2ms/step - loss: 0.7998 - mae: 0.6953 - mse: 0.7998 - val_loss: 0.6738 - val_mae: 0.6257 - val_mse: 0.6738\n",
      "Epoch 5/100\n",
      "128/128 [==============================] - 0s 2ms/step - loss: 0.6617 - mae: 0.6305 - mse: 0.6617 - val_loss: 0.5564 - val_mae: 0.5784 - val_mse: 0.5564\n",
      "Epoch 6/100\n",
      "128/128 [==============================] - 0s 2ms/step - loss: 0.5569 - mae: 0.5772 - mse: 0.5569 - val_loss: 0.4892 - val_mae: 0.5370 - val_mse: 0.4892\n",
      "Epoch 7/100\n",
      "128/128 [==============================] - 0s 3ms/step - loss: 0.5118 - mae: 0.5578 - mse: 0.5118 - val_loss: 0.4846 - val_mae: 0.5291 - val_mse: 0.4846\n",
      "Epoch 8/100\n",
      "128/128 [==============================] - 0s 2ms/step - loss: 0.4796 - mae: 0.5369 - mse: 0.4796 - val_loss: 0.5040 - val_mae: 0.5477 - val_mse: 0.5040\n",
      "Epoch 9/100\n",
      "128/128 [==============================] - 0s 2ms/step - loss: 0.4573 - mae: 0.5284 - mse: 0.4573 - val_loss: 0.4439 - val_mae: 0.5173 - val_mse: 0.4439\n",
      "Epoch 10/100\n",
      "128/128 [==============================] - 0s 2ms/step - loss: 0.4315 - mae: 0.5139 - mse: 0.4315 - val_loss: 0.4429 - val_mae: 0.5235 - val_mse: 0.4429\n",
      "Epoch 11/100\n",
      "128/128 [==============================] - 0s 2ms/step - loss: 0.4119 - mae: 0.5022 - mse: 0.4119 - val_loss: 0.4390 - val_mae: 0.5153 - val_mse: 0.4390\n",
      "Epoch 12/100\n",
      "128/128 [==============================] - 0s 2ms/step - loss: 0.4003 - mae: 0.4922 - mse: 0.4003 - val_loss: 0.4222 - val_mae: 0.4994 - val_mse: 0.4222\n",
      "Epoch 13/100\n",
      "128/128 [==============================] - 0s 2ms/step - loss: 0.3967 - mae: 0.4892 - mse: 0.3967 - val_loss: 0.4974 - val_mae: 0.5507 - val_mse: 0.4974\n",
      "Epoch 14/100\n",
      "128/128 [==============================] - 0s 2ms/step - loss: 0.3827 - mae: 0.4847 - mse: 0.3827 - val_loss: 0.4308 - val_mae: 0.5059 - val_mse: 0.4308\n",
      "Epoch 15/100\n",
      "128/128 [==============================] - 0s 2ms/step - loss: 0.3804 - mae: 0.4819 - mse: 0.3804 - val_loss: 0.3728 - val_mae: 0.4762 - val_mse: 0.3728\n",
      "Epoch 16/100\n",
      "128/128 [==============================] - 0s 2ms/step - loss: 0.3691 - mae: 0.4760 - mse: 0.3691 - val_loss: 0.3936 - val_mae: 0.4926 - val_mse: 0.3936\n",
      "Epoch 17/100\n",
      "128/128 [==============================] - 0s 2ms/step - loss: 0.3640 - mae: 0.4712 - mse: 0.3640 - val_loss: 0.4440 - val_mae: 0.5042 - val_mse: 0.4440\n",
      "Epoch 18/100\n",
      "128/128 [==============================] - 0s 2ms/step - loss: 0.3620 - mae: 0.4680 - mse: 0.3620 - val_loss: 0.3885 - val_mae: 0.4914 - val_mse: 0.3885\n",
      "Epoch 19/100\n",
      "128/128 [==============================] - 0s 2ms/step - loss: 0.3528 - mae: 0.4623 - mse: 0.3528 - val_loss: 0.4489 - val_mae: 0.5123 - val_mse: 0.4489\n",
      "Epoch 20/100\n",
      "128/128 [==============================] - 0s 2ms/step - loss: 0.3499 - mae: 0.4557 - mse: 0.3499 - val_loss: 0.3979 - val_mae: 0.4799 - val_mse: 0.3979\n",
      "Epoch 21/100\n",
      "128/128 [==============================] - 0s 2ms/step - loss: 0.3385 - mae: 0.4509 - mse: 0.3385 - val_loss: 0.3872 - val_mae: 0.4822 - val_mse: 0.3872\n",
      "Epoch 22/100\n",
      "128/128 [==============================] - 0s 2ms/step - loss: 0.3402 - mae: 0.4495 - mse: 0.3402 - val_loss: 0.3707 - val_mae: 0.4779 - val_mse: 0.3707\n",
      "Epoch 23/100\n",
      "128/128 [==============================] - 0s 2ms/step - loss: 0.3255 - mae: 0.4410 - mse: 0.3255 - val_loss: 0.3977 - val_mae: 0.4854 - val_mse: 0.3977\n",
      "Epoch 24/100\n",
      "128/128 [==============================] - 0s 2ms/step - loss: 0.3241 - mae: 0.4401 - mse: 0.3241 - val_loss: 0.3998 - val_mae: 0.4904 - val_mse: 0.3998\n",
      "Epoch 25/100\n",
      "128/128 [==============================] - 0s 2ms/step - loss: 0.3204 - mae: 0.4381 - mse: 0.3204 - val_loss: 0.3965 - val_mae: 0.4961 - val_mse: 0.3965\n",
      "Epoch 26/100\n",
      "128/128 [==============================] - 0s 2ms/step - loss: 0.3134 - mae: 0.4282 - mse: 0.3134 - val_loss: 0.4222 - val_mae: 0.5106 - val_mse: 0.4222\n",
      "Epoch 27/100\n",
      "128/128 [==============================] - 0s 2ms/step - loss: 0.3162 - mae: 0.4365 - mse: 0.3162 - val_loss: 0.3623 - val_mae: 0.4601 - val_mse: 0.3623\n",
      "Epoch 28/100\n",
      "128/128 [==============================] - 0s 2ms/step - loss: 0.3080 - mae: 0.4266 - mse: 0.3080 - val_loss: 0.3839 - val_mae: 0.4815 - val_mse: 0.3839\n",
      "Epoch 29/100\n",
      "128/128 [==============================] - 0s 2ms/step - loss: 0.3054 - mae: 0.4237 - mse: 0.3054 - val_loss: 0.3634 - val_mae: 0.4669 - val_mse: 0.3634\n",
      "Epoch 30/100\n",
      "128/128 [==============================] - 0s 2ms/step - loss: 0.3133 - mae: 0.4302 - mse: 0.3133 - val_loss: 0.3745 - val_mae: 0.4817 - val_mse: 0.3745\n",
      "Epoch 31/100\n",
      "128/128 [==============================] - 0s 2ms/step - loss: 0.2960 - mae: 0.4229 - mse: 0.2960 - val_loss: 0.4110 - val_mae: 0.4965 - val_mse: 0.4110\n",
      "Epoch 32/100\n",
      "128/128 [==============================] - 0s 2ms/step - loss: 0.3026 - mae: 0.4247 - mse: 0.3026 - val_loss: 0.3703 - val_mae: 0.4649 - val_mse: 0.3703\n",
      "Epoch 33/100\n",
      "128/128 [==============================] - 0s 2ms/step - loss: 0.2898 - mae: 0.4160 - mse: 0.2898 - val_loss: 0.5990 - val_mae: 0.6044 - val_mse: 0.5990\n",
      "Epoch 34/100\n",
      "128/128 [==============================] - 0s 2ms/step - loss: 0.2915 - mae: 0.4118 - mse: 0.2915 - val_loss: 0.3923 - val_mae: 0.4963 - val_mse: 0.3923\n",
      "Epoch 35/100\n",
      "128/128 [==============================] - 0s 2ms/step - loss: 0.2778 - mae: 0.4082 - mse: 0.2778 - val_loss: 0.3869 - val_mae: 0.4805 - val_mse: 0.3869\n",
      "Epoch 36/100\n",
      "128/128 [==============================] - 0s 2ms/step - loss: 0.2849 - mae: 0.4139 - mse: 0.2849 - val_loss: 0.3752 - val_mae: 0.4733 - val_mse: 0.3752\n",
      "Epoch 37/100\n",
      "128/128 [==============================] - 0s 2ms/step - loss: 0.2770 - mae: 0.3985 - mse: 0.2770 - val_loss: 0.4230 - val_mae: 0.5120 - val_mse: 0.4230\n",
      "Epoch 38/100\n",
      "128/128 [==============================] - 0s 2ms/step - loss: 0.2783 - mae: 0.4051 - mse: 0.2783 - val_loss: 0.3618 - val_mae: 0.4652 - val_mse: 0.3618\n",
      "Epoch 39/100\n",
      "128/128 [==============================] - 0s 2ms/step - loss: 0.2723 - mae: 0.4011 - mse: 0.2723 - val_loss: 0.3463 - val_mae: 0.4504 - val_mse: 0.3463\n",
      "Epoch 40/100\n",
      "128/128 [==============================] - 0s 2ms/step - loss: 0.2724 - mae: 0.3984 - mse: 0.2724 - val_loss: 0.3589 - val_mae: 0.4602 - val_mse: 0.3589\n",
      "Epoch 41/100\n",
      "128/128 [==============================] - 0s 2ms/step - loss: 0.2688 - mae: 0.4039 - mse: 0.2688 - val_loss: 0.3955 - val_mae: 0.4805 - val_mse: 0.3955\n",
      "Epoch 42/100\n",
      "128/128 [==============================] - 0s 2ms/step - loss: 0.2676 - mae: 0.3974 - mse: 0.2676 - val_loss: 0.3824 - val_mae: 0.4866 - val_mse: 0.3824\n",
      "Epoch 43/100\n",
      "128/128 [==============================] - 0s 2ms/step - loss: 0.2652 - mae: 0.4000 - mse: 0.2652 - val_loss: 0.3864 - val_mae: 0.4869 - val_mse: 0.3864\n",
      "Epoch 44/100\n",
      "128/128 [==============================] - 0s 2ms/step - loss: 0.2597 - mae: 0.3904 - mse: 0.2597 - val_loss: 0.3841 - val_mae: 0.4796 - val_mse: 0.3841\n",
      "Epoch 45/100\n",
      "128/128 [==============================] - 0s 2ms/step - loss: 0.2543 - mae: 0.3835 - mse: 0.2543 - val_loss: 0.3759 - val_mae: 0.4816 - val_mse: 0.3759\n",
      "Epoch 46/100\n",
      "128/128 [==============================] - 0s 2ms/step - loss: 0.2490 - mae: 0.3831 - mse: 0.2490 - val_loss: 0.3875 - val_mae: 0.4822 - val_mse: 0.3875\n",
      "Epoch 47/100\n",
      "128/128 [==============================] - 0s 2ms/step - loss: 0.2422 - mae: 0.3795 - mse: 0.2422 - val_loss: 0.3923 - val_mae: 0.4810 - val_mse: 0.3923\n",
      "Epoch 48/100\n",
      "128/128 [==============================] - 0s 2ms/step - loss: 0.2549 - mae: 0.3876 - mse: 0.2549 - val_loss: 0.4082 - val_mae: 0.4942 - val_mse: 0.4082\n",
      "Epoch 49/100\n",
      "128/128 [==============================] - 0s 2ms/step - loss: 0.2454 - mae: 0.3813 - mse: 0.2454 - val_loss: 0.3685 - val_mae: 0.4641 - val_mse: 0.3685\n",
      "Epoch 50/100\n",
      "128/128 [==============================] - 0s 2ms/step - loss: 0.2423 - mae: 0.3769 - mse: 0.2423 - val_loss: 0.3645 - val_mae: 0.4608 - val_mse: 0.3645\n",
      "Epoch 51/100\n",
      "128/128 [==============================] - 0s 2ms/step - loss: 0.2402 - mae: 0.3773 - mse: 0.2402 - val_loss: 0.4083 - val_mae: 0.4993 - val_mse: 0.4083\n",
      "Epoch 52/100\n",
      "128/128 [==============================] - 0s 2ms/step - loss: 0.2396 - mae: 0.3790 - mse: 0.2396 - val_loss: 0.4203 - val_mae: 0.4967 - val_mse: 0.4203\n",
      "Epoch 53/100\n",
      "128/128 [==============================] - 0s 2ms/step - loss: 0.2373 - mae: 0.3737 - mse: 0.2373 - val_loss: 0.4389 - val_mae: 0.5060 - val_mse: 0.4389\n",
      "Epoch 54/100\n",
      "128/128 [==============================] - 0s 2ms/step - loss: 0.2330 - mae: 0.3732 - mse: 0.2330 - val_loss: 0.3678 - val_mae: 0.4645 - val_mse: 0.3678\n",
      "Epoch 55/100\n",
      "128/128 [==============================] - 0s 2ms/step - loss: 0.2326 - mae: 0.3713 - mse: 0.2326 - val_loss: 0.3740 - val_mae: 0.4762 - val_mse: 0.3740\n",
      "Epoch 56/100\n",
      "128/128 [==============================] - 0s 2ms/step - loss: 0.2197 - mae: 0.3579 - mse: 0.2197 - val_loss: 0.4597 - val_mae: 0.5268 - val_mse: 0.4597\n",
      "Epoch 57/100\n",
      "128/128 [==============================] - 0s 2ms/step - loss: 0.2286 - mae: 0.3652 - mse: 0.2286 - val_loss: 0.3953 - val_mae: 0.4862 - val_mse: 0.3953\n",
      "Epoch 58/100\n",
      "128/128 [==============================] - 0s 2ms/step - loss: 0.2242 - mae: 0.3657 - mse: 0.2242 - val_loss: 0.4369 - val_mae: 0.5130 - val_mse: 0.4369\n",
      "Epoch 59/100\n",
      "128/128 [==============================] - 0s 2ms/step - loss: 0.2244 - mae: 0.3633 - mse: 0.2244 - val_loss: 0.4070 - val_mae: 0.4901 - val_mse: 0.4070\n",
      "Epoch 60/100\n",
      "128/128 [==============================] - 0s 2ms/step - loss: 0.2168 - mae: 0.3574 - mse: 0.2168 - val_loss: 0.4072 - val_mae: 0.4820 - val_mse: 0.4072\n",
      "Epoch 61/100\n",
      "128/128 [==============================] - 0s 2ms/step - loss: 0.2139 - mae: 0.3556 - mse: 0.2139 - val_loss: 0.5471 - val_mae: 0.5662 - val_mse: 0.5471\n",
      "Epoch 62/100\n",
      "128/128 [==============================] - 0s 2ms/step - loss: 0.2166 - mae: 0.3605 - mse: 0.2166 - val_loss: 0.4115 - val_mae: 0.4994 - val_mse: 0.4115\n",
      "Epoch 63/100\n",
      "128/128 [==============================] - 0s 2ms/step - loss: 0.2097 - mae: 0.3529 - mse: 0.2097 - val_loss: 0.4727 - val_mae: 0.5198 - val_mse: 0.4727\n",
      "Epoch 64/100\n",
      "128/128 [==============================] - 0s 2ms/step - loss: 0.2193 - mae: 0.3575 - mse: 0.2193 - val_loss: 0.3951 - val_mae: 0.4752 - val_mse: 0.3951\n",
      "Epoch 65/100\n",
      "128/128 [==============================] - 0s 2ms/step - loss: 0.2063 - mae: 0.3478 - mse: 0.2063 - val_loss: 0.3996 - val_mae: 0.4869 - val_mse: 0.3996\n",
      "Epoch 66/100\n",
      "128/128 [==============================] - 0s 2ms/step - loss: 0.2089 - mae: 0.3477 - mse: 0.2089 - val_loss: 0.4134 - val_mae: 0.4930 - val_mse: 0.4134\n",
      "Epoch 67/100\n",
      "128/128 [==============================] - 0s 3ms/step - loss: 0.2098 - mae: 0.3473 - mse: 0.2098 - val_loss: 0.3927 - val_mae: 0.4718 - val_mse: 0.3927\n",
      "Epoch 68/100\n",
      "128/128 [==============================] - 0s 2ms/step - loss: 0.2061 - mae: 0.3473 - mse: 0.2061 - val_loss: 0.3885 - val_mae: 0.4750 - val_mse: 0.3885\n",
      "Epoch 69/100\n",
      "128/128 [==============================] - 0s 2ms/step - loss: 0.2033 - mae: 0.3453 - mse: 0.2033 - val_loss: 0.3787 - val_mae: 0.4655 - val_mse: 0.3787\n",
      "Epoch 70/100\n",
      "128/128 [==============================] - 0s 2ms/step - loss: 0.2022 - mae: 0.3429 - mse: 0.2022 - val_loss: 0.4197 - val_mae: 0.4991 - val_mse: 0.4197\n",
      "Epoch 71/100\n",
      "128/128 [==============================] - 0s 2ms/step - loss: 0.2022 - mae: 0.3447 - mse: 0.2022 - val_loss: 0.4176 - val_mae: 0.4982 - val_mse: 0.4176\n",
      "Epoch 72/100\n",
      "128/128 [==============================] - 0s 2ms/step - loss: 0.2018 - mae: 0.3451 - mse: 0.2018 - val_loss: 0.4486 - val_mae: 0.5169 - val_mse: 0.4486\n",
      "Epoch 73/100\n",
      "128/128 [==============================] - 0s 2ms/step - loss: 0.1990 - mae: 0.3391 - mse: 0.1990 - val_loss: 0.4091 - val_mae: 0.4889 - val_mse: 0.4091\n",
      "Epoch 74/100\n",
      "128/128 [==============================] - 0s 2ms/step - loss: 0.1973 - mae: 0.3361 - mse: 0.1973 - val_loss: 0.4186 - val_mae: 0.4958 - val_mse: 0.4186\n",
      "Epoch 75/100\n",
      "128/128 [==============================] - 0s 2ms/step - loss: 0.1982 - mae: 0.3388 - mse: 0.1982 - val_loss: 0.4259 - val_mae: 0.4916 - val_mse: 0.4259\n",
      "Epoch 76/100\n",
      "128/128 [==============================] - 0s 2ms/step - loss: 0.2021 - mae: 0.3400 - mse: 0.2021 - val_loss: 0.4180 - val_mae: 0.4890 - val_mse: 0.4180\n",
      "Epoch 77/100\n",
      "128/128 [==============================] - 0s 2ms/step - loss: 0.1899 - mae: 0.3319 - mse: 0.1899 - val_loss: 0.4301 - val_mae: 0.4950 - val_mse: 0.4301\n",
      "Epoch 78/100\n",
      "128/128 [==============================] - 0s 2ms/step - loss: 0.1888 - mae: 0.3261 - mse: 0.1888 - val_loss: 0.4042 - val_mae: 0.4861 - val_mse: 0.4042\n",
      "Epoch 79/100\n",
      "128/128 [==============================] - 0s 2ms/step - loss: 0.1910 - mae: 0.3348 - mse: 0.1910 - val_loss: 0.4308 - val_mae: 0.4903 - val_mse: 0.4308\n",
      "Epoch 80/100\n",
      "128/128 [==============================] - 0s 2ms/step - loss: 0.1858 - mae: 0.3271 - mse: 0.1858 - val_loss: 0.4437 - val_mae: 0.5055 - val_mse: 0.4437\n",
      "Epoch 81/100\n",
      "128/128 [==============================] - 0s 2ms/step - loss: 0.1897 - mae: 0.3306 - mse: 0.1897 - val_loss: 0.4575 - val_mae: 0.5177 - val_mse: 0.4575\n",
      "Epoch 82/100\n",
      "128/128 [==============================] - 0s 2ms/step - loss: 0.1844 - mae: 0.3325 - mse: 0.1844 - val_loss: 0.4156 - val_mae: 0.4877 - val_mse: 0.4156\n",
      "Epoch 83/100\n",
      "128/128 [==============================] - 0s 2ms/step - loss: 0.1857 - mae: 0.3300 - mse: 0.1857 - val_loss: 0.4113 - val_mae: 0.4850 - val_mse: 0.4113\n",
      "Epoch 84/100\n",
      "128/128 [==============================] - 0s 2ms/step - loss: 0.1789 - mae: 0.3211 - mse: 0.1789 - val_loss: 0.4094 - val_mae: 0.4828 - val_mse: 0.4094\n",
      "Epoch 85/100\n",
      "128/128 [==============================] - 0s 2ms/step - loss: 0.1849 - mae: 0.3292 - mse: 0.1849 - val_loss: 0.4192 - val_mae: 0.4880 - val_mse: 0.4192\n",
      "Epoch 86/100\n",
      "128/128 [==============================] - 0s 2ms/step - loss: 0.1723 - mae: 0.3173 - mse: 0.1723 - val_loss: 0.4664 - val_mae: 0.5245 - val_mse: 0.4664\n",
      "Epoch 87/100\n",
      "128/128 [==============================] - 0s 2ms/step - loss: 0.1809 - mae: 0.3229 - mse: 0.1809 - val_loss: 0.4503 - val_mae: 0.5199 - val_mse: 0.4503\n",
      "Epoch 88/100\n",
      "128/128 [==============================] - 0s 2ms/step - loss: 0.1738 - mae: 0.3173 - mse: 0.1738 - val_loss: 0.4445 - val_mae: 0.5057 - val_mse: 0.4445\n",
      "Epoch 89/100\n",
      "128/128 [==============================] - 0s 2ms/step - loss: 0.1729 - mae: 0.3167 - mse: 0.1729 - val_loss: 0.4357 - val_mae: 0.4981 - val_mse: 0.4357\n",
      "Epoch 90/100\n",
      "128/128 [==============================] - 0s 2ms/step - loss: 0.1794 - mae: 0.3275 - mse: 0.1794 - val_loss: 0.4384 - val_mae: 0.4939 - val_mse: 0.4384\n",
      "Epoch 91/100\n",
      "128/128 [==============================] - 0s 2ms/step - loss: 0.1658 - mae: 0.3113 - mse: 0.1658 - val_loss: 0.4448 - val_mae: 0.4980 - val_mse: 0.4448\n",
      "Epoch 92/100\n",
      "128/128 [==============================] - 0s 2ms/step - loss: 0.1676 - mae: 0.3140 - mse: 0.1676 - val_loss: 0.4751 - val_mae: 0.5132 - val_mse: 0.4751\n",
      "Epoch 93/100\n",
      "128/128 [==============================] - 0s 2ms/step - loss: 0.1732 - mae: 0.3140 - mse: 0.1732 - val_loss: 0.4289 - val_mae: 0.4981 - val_mse: 0.4289\n",
      "Epoch 94/100\n",
      "128/128 [==============================] - 0s 2ms/step - loss: 0.1680 - mae: 0.3154 - mse: 0.1680 - val_loss: 0.4814 - val_mae: 0.5191 - val_mse: 0.4814\n",
      "Epoch 95/100\n",
      "128/128 [==============================] - 0s 2ms/step - loss: 0.1747 - mae: 0.3182 - mse: 0.1747 - val_loss: 0.5100 - val_mae: 0.5372 - val_mse: 0.5100\n",
      "Epoch 96/100\n",
      "128/128 [==============================] - 0s 2ms/step - loss: 0.1631 - mae: 0.3077 - mse: 0.1631 - val_loss: 0.4505 - val_mae: 0.4978 - val_mse: 0.4505\n",
      "Epoch 97/100\n",
      "128/128 [==============================] - 0s 2ms/step - loss: 0.1639 - mae: 0.3039 - mse: 0.1639 - val_loss: 0.4689 - val_mae: 0.5214 - val_mse: 0.4689\n",
      "Epoch 98/100\n",
      "128/128 [==============================] - 0s 2ms/step - loss: 0.1645 - mae: 0.3113 - mse: 0.1645 - val_loss: 0.5093 - val_mae: 0.5378 - val_mse: 0.5093\n",
      "Epoch 99/100\n",
      "128/128 [==============================] - 0s 2ms/step - loss: 0.1589 - mae: 0.3040 - mse: 0.1589 - val_loss: 0.4655 - val_mae: 0.5101 - val_mse: 0.4655\n",
      "Epoch 100/100\n",
      "128/128 [==============================] - 0s 3ms/step - loss: 0.1573 - mae: 0.3048 - mse: 0.1573 - val_loss: 0.4539 - val_mae: 0.5079 - val_mse: 0.4539\n"
     ]
    }
   ],
   "source": [
    "history = model.fit(x_train,\n",
    "                    y_train,\n",
    "                    epochs          = 100,\n",
    "                    batch_size      = 10,\n",
    "                    verbose         = fit_verbosity,\n",
    "                    validation_data = (x_test, y_test),\n",
    "                    callbacks       = [savemodel_callback])"
   ]
  },
  {
   "cell_type": "markdown",
   "metadata": {},
   "source": [
    "## Step 6 - Evaluate\n",
    "### 6.1 - Model evaluation\n",
    "MAE =  Mean Absolute Error (between the labels and predictions)  \n",
    "A mae equal to 3 represents an average error in prediction of $3k."
   ]
  },
  {
   "cell_type": "code",
   "execution_count": 12,
   "metadata": {},
   "outputs": [
    {
     "name": "stdout",
     "output_type": "stream",
     "text": [
      "x_test / loss      : 0.4539\n",
      "x_test / mae       : 0.5079\n",
      "x_test / mse       : 0.4539\n"
     ]
    }
   ],
   "source": [
    "score = model.evaluate(x_test, y_test, verbose=0)\n",
    "\n",
    "print('x_test / loss      : {:5.4f}'.format(score[0]))\n",
    "print('x_test / mae       : {:5.4f}'.format(score[1]))\n",
    "print('x_test / mse       : {:5.4f}'.format(score[2]))"
   ]
  },
  {
   "cell_type": "markdown",
   "metadata": {},
   "source": [
    "### 6.2 - Training history\n",
    "What was the best result during our training ?"
   ]
  },
  {
   "cell_type": "code",
   "execution_count": 13,
   "metadata": {},
   "outputs": [
    {
     "name": "stdout",
     "output_type": "stream",
     "text": [
      "min( val_mae ) : 0.4504\n"
     ]
    }
   ],
   "source": [
    "print(\"min( val_mae ) : {:.4f}\".format( min(history.history[\"val_mae\"]) ) )"
   ]
  },
  {
   "cell_type": "code",
   "execution_count": 14,
   "metadata": {},
   "outputs": [
    {
     "data": {
      "image/png": "[encoded data removed]",
      "text/plain": [
       "<Figure size 800x600 with 1 Axes>"
      ]
     },
     "metadata": {},
     "output_type": "display_data"
    },
    {
     "data": {
      "image/png": "[encoded data removed]",
      "text/plain": [
       "<Figure size 800x600 with 1 Axes>"
      ]
     },
     "metadata": {},
     "output_type": "display_data"
    },
    {
     "data": {
      "image/png": "[encoded data removed]",
      "text/plain": [
       "<Figure size 800x600 with 1 Axes>"
      ]
     },
     "metadata": {},
     "output_type": "display_data"
    }
   ],
   "source": [
    "fidle.scrawler.history( history, plot={'MSE' :['mse', 'val_mse'],\n",
    "                        'MAE' :['mae', 'val_mae'],\n",
    "                        'LOSS':['loss','val_loss']}, save_as='01-history')"
   ]
  },
  {
   "cell_type": "markdown",
   "metadata": {},
   "source": [
    "## Step 7 - Restore a model :"
   ]
  },
  {
   "cell_type": "markdown",
   "metadata": {},
   "source": [
    "### 7.1 - Reload model"
   ]
  },
  {
   "cell_type": "code",
   "execution_count": 15,
   "metadata": {},
   "outputs": [
    {
     "name": "stdout",
     "output_type": "stream",
     "text": [
      "Model: \"sequential\"\n",
      "_________________________________________________________________\n",
      " Layer (type)                Output Shape              Param #   \n",
      "=================================================================\n",
      " Dense_n1 (Dense)            (None, 64)                768       \n",
      "                                                                 \n",
      " Dense_n2 (Dense)            (None, 64)                4160      \n",
      "                                                                 \n",
      " Output (Dense)              (None, 1)                 65        \n",
      "                                                                 \n",
      "=================================================================\n",
      "Total params: 4,993\n",
      "Trainable params: 4,993\n",
      "Non-trainable params: 0\n",
      "_________________________________________________________________\n",
      "Loaded.\n"
     ]
    }
   ],
   "source": [
    "loaded_model = tf.keras.models.load_model('./run/models/best_model.h5')\n",
    "loaded_model.summary()\n",
    "print(\"Loaded.\")"
   ]
  },
  {
   "cell_type": "markdown",
   "metadata": {},
   "source": [
    "### 7.2 - Evaluate it :"
   ]
  },
  {
   "cell_type": "code",
   "execution_count": 16,
   "metadata": {},
   "outputs": [
    {
     "name": "stdout",
     "output_type": "stream",
     "text": [
      "x_test / loss      : 0.3463\n",
      "x_test / mae       : 0.4504\n",
      "x_test / mse       : 0.3463\n"
     ]
    }
   ],
   "source": [
    "score = loaded_model.evaluate(x_test, y_test, verbose=0)\n",
    "\n",
    "print('x_test / loss      : {:5.4f}'.format(score[0]))\n",
    "print('x_test / mae       : {:5.4f}'.format(score[1]))\n",
    "print('x_test / mse       : {:5.4f}'.format(score[2]))"
   ]
  },
  {
   "cell_type": "markdown",
   "metadata": {},
   "source": [
    "### 7.3 - Make a prediction"
   ]
  },
  {
   "cell_type": "code",
   "execution_count": 17,
   "metadata": {},
   "outputs": [],
   "source": [
    "# ---- Pick n entries from our test set\n",
    "n = 200\n",
    "ii = np.random.randint(1,len(x_test),n)\n",
    "x_sample = x_test[ii]\n",
    "y_sample = y_test[ii]"
   ]
  },
  {
   "cell_type": "code",
   "execution_count": 18,
   "metadata": {},
   "outputs": [
    {
     "name": "stdout",
     "output_type": "stream",
     "text": [
      "7/7 - 0s - 132ms/epoch - 19ms/step\n"
     ]
    }
   ],
   "source": [
    "# ---- Make a predictions\n",
    "y_pred = loaded_model.predict( x_sample, verbose=2 )"
   ]
  },
  {
   "cell_type": "code",
   "execution_count": 19,
   "metadata": {},
   "outputs": [
    {
     "name": "stdout",
     "output_type": "stream",
     "text": [
      "Wine    Prediction   Real   Delta\n",
      "000        5.08       5      -0.08 \n",
      "001        6.09       6      -0.09 \n",
      "002        4.58       5      +0.42 \n",
      "003        5.49       5      -0.49 \n",
      "004        4.41       5      +0.59 \n",
      "005        4.80       6      +1.20 \n",
      "006        5.60       6      +0.40 \n",
      "007        5.38       6      +0.62 \n",
      "008        4.73       5      +0.27 \n",
      "009        6.33       6      -0.33 \n",
      "010        6.10       5      -1.10 \n",
      "011        5.92       7      +1.08 \n",
      "012        5.90       6      +0.10 \n",
      "013        6.48       7      +0.52 \n",
      "014        5.03       5      -0.03 \n",
      "015        4.96       5      +0.04 \n",
      "016        5.32       5      -0.32 \n",
      "017        4.71       5      +0.29 \n",
      "018        5.38       6      +0.62 \n",
      "019        6.65       6      -0.65 \n",
      "020        6.00       6      -0.00 \n",
      "021        5.84       6      +0.16 \n",
      "022        4.90       5      +0.10 \n",
      "023        6.48       6      -0.48 \n",
      "024        5.65       6      +0.35 \n",
      "025        4.80       6      +1.20 \n",
      "026        5.44       6      +0.56 \n",
      "027        5.84       6      +0.16 \n",
      "028        5.79       5      -0.79 \n",
      "029        5.39       5      -0.39 \n",
      "030        5.46       5      -0.46 \n",
      "031        5.94       5      -0.94 \n",
      "032        5.40       5      -0.40 \n",
      "033        5.57       6      +0.43 \n",
      "034        5.93       6      +0.07 \n",
      "035        5.82       5      -0.82 \n",
      "036        4.53       5      +0.47 \n",
      "037        5.24       6      +0.76 \n",
      "038        4.78       5      +0.22 \n",
      "039        5.46       5      -0.46 \n",
      "040        4.72       5      +0.28 \n",
      "041        6.79       7      +0.21 \n",
      "042        5.03       5      -0.03 \n",
      "043        4.57       5      +0.43 \n",
      "044        6.85       7      +0.15 \n",
      "045        4.68       6      +1.32 \n",
      "046        5.74       6      +0.26 \n",
      "047        5.53       6      +0.47 \n",
      "048        6.00       6      -0.00 \n",
      "049        6.52       6      -0.52 \n",
      "050        6.10       5      -1.10 \n",
      "051        7.39       7      -0.39 \n",
      "052        7.44       7      -0.44 \n",
      "053        5.77       6      +0.23 \n",
      "054        5.97       6      +0.03 \n",
      "055        3.99       4      +0.01 \n",
      "056        4.78       5      +0.22 \n",
      "057        5.94       6      +0.06 \n",
      "058        4.88       5      +0.12 \n",
      "059        5.08       5      -0.08 \n",
      "060        5.20       6      +0.80 \n",
      "061        5.77       6      +0.23 \n",
      "062        4.86       5      +0.14 \n",
      "063        5.88       5      -0.88 \n",
      "064        5.79       5      -0.79 \n",
      "065        5.36       6      +0.64 \n",
      "066        7.39       7      -0.39 \n",
      "067        4.90       5      +0.10 \n",
      "068        6.31       6      -0.31 \n",
      "069        5.03       5      -0.03 \n",
      "070        5.84       6      +0.16 \n",
      "071        5.95       6      +0.05 \n",
      "072        5.40       6      +0.60 \n",
      "073        4.86       5      +0.14 \n",
      "074        5.87       6      +0.13 \n",
      "075        5.95       6      +0.05 \n",
      "076        5.82       5      -0.82 \n",
      "077        5.54       5      -0.54 \n",
      "078        5.90       6      +0.10 \n",
      "079        4.95       5      +0.05 \n",
      "080        5.28       6      +0.72 \n",
      "081        5.26       5      -0.26 \n",
      "082        5.04       5      -0.04 \n",
      "083        5.26       5      -0.26 \n",
      "084        5.49       5      -0.49 \n",
      "085        6.12       6      -0.12 \n",
      "086        4.41       5      +0.59 \n",
      "087        4.53       5      +0.47 \n",
      "088        4.36       5      +0.64 \n",
      "089        4.94       5      +0.06 \n",
      "090        6.79       7      +0.21 \n",
      "091        6.01       7      +0.99 \n",
      "092        6.06       7      +0.94 \n",
      "093        6.85       7      +0.15 \n",
      "094        5.31       7      +1.69 \n",
      "095        5.34       5      -0.34 \n",
      "096        6.78       7      +0.22 \n",
      "097        5.14       6      +0.86 \n",
      "098        5.61       6      +0.39 \n",
      "099        5.63       6      +0.37 \n",
      "100        5.80       5      -0.80 \n",
      "101        5.82       5      -0.82 \n",
      "102        4.62       4      -0.62 \n",
      "103        6.24       6      -0.24 \n",
      "104        6.06       7      +0.94 \n",
      "105        5.02       5      -0.02 \n",
      "106        5.81       6      +0.19 \n",
      "107        5.95       6      +0.05 \n",
      "108        6.90       8      +1.10 \n",
      "109        5.54       5      -0.54 \n",
      "110        5.43       6      +0.57 \n",
      "111        5.57       6      +0.43 \n",
      "112        5.94       5      -0.94 \n",
      "113        4.88       5      +0.12 \n",
      "114        5.04       6      +0.96 \n",
      "115        6.62       6      -0.62 \n",
      "116        6.90       8      +1.10 \n",
      "117        5.77       6      +0.23 \n",
      "118        6.62       6      -0.62 \n",
      "119        5.95       6      +0.05 \n",
      "120        5.25       5      -0.25 \n",
      "121        4.73       5      +0.27 \n",
      "122        4.73       5      +0.27 \n",
      "123        5.47       6      +0.53 \n",
      "124        5.64       6      +0.36 \n",
      "125        5.92       7      +1.08 \n",
      "126        5.85       6      +0.15 \n",
      "127        4.83       5      +0.17 \n",
      "128        5.40       5      -0.40 \n",
      "129        5.31       6      +0.69 \n",
      "130        5.31       7      +1.69 \n",
      "131        4.91       5      +0.09 \n",
      "132        6.85       7      +0.15 \n",
      "133        5.08       6      +0.92 \n",
      "134        4.73       5      +0.27 \n",
      "135        5.47       5      -0.47 \n",
      "136        4.78       5      +0.22 \n",
      "137        6.31       6      -0.31 \n",
      "138        5.95       6      +0.05 \n",
      "139        4.67       5      +0.33 \n",
      "140        5.49       5      -0.49 \n",
      "141        4.55       5      +0.45 \n",
      "142        6.28       7      +0.72 \n",
      "143        5.14       5      -0.14 \n",
      "144        5.87       6      +0.13 \n",
      "145        5.84       6      +0.16 \n",
      "146        5.33       6      +0.67 \n",
      "147        6.17       6      -0.17 \n",
      "148        5.73       5      -0.73 \n",
      "149        5.40       5      -0.40 \n",
      "150        6.45       7      +0.55 \n",
      "151        6.52       7      +0.48 \n",
      "152        6.12       6      -0.12 \n",
      "153        5.35       6      +0.65 \n",
      "154        5.30       5      -0.30 \n",
      "155        5.44       5      -0.44 \n",
      "156        5.40       6      +0.60 \n",
      "157        4.71       5      +0.29 \n",
      "158        5.03       5      -0.03 \n",
      "159        6.31       6      -0.31 \n",
      "160        4.86       4      -0.86 \n",
      "161        5.03       5      -0.03 \n",
      "162        4.91       5      +0.09 \n",
      "163        5.47       5      -0.47 \n",
      "164        5.44       6      +0.56 \n",
      "165        6.31       6      -0.31 \n",
      "166        5.64       6      +0.36 \n",
      "167        5.67       7      +1.33 \n",
      "168        6.50       6      -0.50 \n",
      "169        5.47       5      -0.47 \n",
      "170        5.61       6      +0.39 \n",
      "171        5.52       6      +0.48 \n",
      "172        5.58       5      -0.58 \n",
      "173        5.53       5      -0.53 \n",
      "174        5.94       5      -0.94 \n",
      "175        6.10       5      -1.10 \n",
      "176        5.65       6      +0.35 \n",
      "177        4.55       5      +0.45 \n",
      "178        5.84       5      -0.84 \n",
      "179        5.84       5      -0.84 \n",
      "180        5.84       6      +0.16 \n",
      "181        6.00       6      -0.00 \n",
      "182        5.44       6      +0.56 \n",
      "183        4.88       5      +0.12 \n",
      "184        6.16       5      -1.16 \n",
      "185        5.03       5      -0.03 \n",
      "186        5.67       7      +1.33 \n",
      "187        5.48       7      +1.52 \n",
      "188        5.00       5      +0.00 \n",
      "189        6.48       7      +0.52 \n",
      "190        5.79       5      -0.79 \n",
      "191        5.19       5      -0.19 \n",
      "192        5.05       5      -0.05 \n",
      "193        5.64       6      +0.36 \n",
      "194        5.43       6      +0.57 \n",
      "195        5.60       6      +0.40 \n",
      "196        5.80       5      -0.80 \n",
      "197        6.52       6      -0.52 \n",
      "198        6.52       6      -0.52 \n",
      "199        4.53       5      +0.47 \n"
     ]
    }
   ],
   "source": [
    "# ---- Show it\n",
    "print('Wine    Prediction   Real   Delta')\n",
    "for i in range(n):\n",
    "    pred   = y_pred[i][0]\n",
    "    real   = y_sample[i]\n",
    "    delta  = real-pred\n",
    "    print(f'{i:03d}        {pred:.2f}       {real}      {delta:+.2f} ')"
   ]
  },
  {
   "cell_type": "code",
   "execution_count": 20,
   "metadata": {},
   "outputs": [
    {
     "data": {
      "text/markdown": [
       "**End time :** 27/07/23 10:32:35  \n",
       "**Duration :** 00:02:37 863ms  \n",
       "This notebook ends here :-)  \n",
       "[https://fidle.cnrs.fr](https://fidle.cnrs.fr)"
      ],
      "text/plain": [
       "<IPython.core.display.Markdown object>"
      ]
     },
     "metadata": {},
     "output_type": "display_data"
    }
   ],
   "source": [
    "fidle.end()"
   ]
  },
  {
   "cell_type": "markdown",
   "metadata": {},
   "source": [
    "---\n",
    "<img width=\"80px\" src=\"../fidle/img/00-Fidle-logo-01.svg\"></img>"
   ]
  }
 ],
 "metadata": {
  "kernelspec": {
   "display_name": "Python 3 (ipykernel)",
   "language": "python",
   "name": "python3"
  },
  "language_info": {
   "codemirror_mode": {
    "name": "ipython",
    "version": 3
   },
   "file_extension": ".py",
   "mimetype": "text/x-python",
   "name": "python",
   "nbconvert_exporter": "python",
   "pygments_lexer": "ipython3",
   "version": "3.9.13"
  },
  "vscode": {
   "interpreter": {
    "hash": "b3929042cc22c1274d74e3e946c52b845b57cb6d84f2d591ffe0519b38e4896d"
   }
  }
 },
 "nbformat": 4,
 "nbformat_minor": 4
}
